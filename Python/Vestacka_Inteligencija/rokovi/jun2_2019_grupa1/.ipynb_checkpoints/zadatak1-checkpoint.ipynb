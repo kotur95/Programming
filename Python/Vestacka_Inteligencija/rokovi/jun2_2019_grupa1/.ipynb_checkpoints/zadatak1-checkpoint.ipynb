{
 "cells": [
  {
   "cell_type": "code",
   "execution_count": 18,
   "metadata": {},
   "outputs": [],
   "source": [
    "class Graph:\n",
    "    # Funkcija vraca listu susednih stanja tekuceg stanja\n",
    "    def get_neighbors(self, v):\n",
    "        neighbors = []\n",
    "        # === STUDENTSKI KOD === #\n",
    "        for i in range(0,len(v)+1):\n",
    "            for j in range(0, i):\n",
    "                podniz = v[j:i]\n",
    "                podniz.reverse()\n",
    "                neighbor = v[:j] + podniz + v[i:]\n",
    "                if neighbor != v and neighbor not in neighbor:\n",
    "                    neighbors.append(neighbor)\n",
    "\n",
    "            for j in range(i, len(v)+1):\n",
    "                podniz = v[i:j]\n",
    "                podniz.reverse()\n",
    "                neighbor = v[:i] + podniz + v[j:]\n",
    "                if neighbor != v and neighbor not in neighbor:\n",
    "                    neighbors.append(neighbor)\n",
    "                     \n",
    "        return neighbors\n",
    "\n",
    "    # Funkcija pronalazi put od stanja start do stanja stop\n",
    "    # koriscenjem BFS pretrage\n",
    "    def bfs(self, start, stop):\n",
    "        # === STUDENTSKI KOD === #\n",
    "        S = [start]\n",
    "        parent = {}\n",
    "        # Kastovanjem u str se vrsi serijalizacija\n",
    "        parent[str(start)] = start\n",
    "        \n",
    "        while len(S) > 0:\n",
    "            # === STUDENTSKI KOD === #\n",
    "            # ako je kombinacija u skupu S\n",
    "                            \n",
    "            nextS = []\n",
    "            for comb in S:\n",
    "                for m in self.get_neighbors(comb):\n",
    "                    if str(m) not in parent.values():\n",
    "                        nextS.append(m)\n",
    "                        parent[str(m)] = str(comb)\n",
    "\n",
    "                        # ako smo pronasli kombinaciju\n",
    "                        if m == stop:\n",
    "                            path = []\n",
    "                            while parent[str(m)] != m:\n",
    "                                path.append(m)\n",
    "                                m = parent[str(m)]\n",
    "                            path.reverse()\n",
    "                            return path\n",
    "\n",
    "            S = nextS\n",
    "            # === STUDENTSKI KOD === #\n",
    "        print('Trazeni put nije pronadjen')\n",
    "        return None"
   ]
  },
  {
   "cell_type": "code",
   "execution_count": 19,
   "metadata": {
    "scrolled": true
   },
   "outputs": [
    {
     "name": "stdout",
     "output_type": "stream",
     "text": [
      "['H', 'D', 'E', 'A', 'G', 'F', 'B', 'C']\n",
      "['A', 'E', 'D', 'H', 'G', 'F', 'B', 'C']\n",
      "['A', 'E', 'D', 'C', 'B', 'F', 'G', 'H']\n",
      "['A', 'B', 'C', 'D', 'E', 'F', 'G', 'H']\n",
      "Tajna poruka je: 3\n"
     ]
    }
   ],
   "source": [
    "g = Graph()\n",
    "\n",
    "start = ['H', 'D', 'E', 'A', 'G', 'F', 'B', 'C']\n",
    "stop = ['A', 'B', 'C', 'D', 'E', 'F', 'G', 'H']\n",
    "\n",
    "path = g.bfs(start, stop)\n",
    "for state in path:\n",
    "    print(state)\n",
    "\n",
    "secret = len(path) - 1\n",
    "print('Tajna poruka je: {}'.format(secret))"
   ]
  },
  {
   "cell_type": "code",
   "execution_count": 20,
   "metadata": {},
   "outputs": [
    {
     "name": "stdout",
     "output_type": "stream",
     "text": [
      "[1, 2, 3, 4, 5]\n",
      "[5, 4, 3, 2, 1]\n",
      "[]\n",
      "[5, 4]\n"
     ]
    }
   ],
   "source": [
    "lista = [1,2,3,4,5]\n",
    "print(lista)\n",
    "print(lista[::-1])\n",
    "print(lista[2:4:-1])\n",
    "print(lista[4:2:-1])"
   ]
  }
 ],
 "metadata": {
  "kernelspec": {
   "display_name": "Python 3",
   "language": "python",
   "name": "python3"
  },
  "language_info": {
   "codemirror_mode": {
    "name": "ipython",
    "version": 3
   },
   "file_extension": ".py",
   "mimetype": "text/x-python",
   "name": "python",
   "nbconvert_exporter": "python",
   "pygments_lexer": "ipython3",
   "version": "3.7.3"
  }
 },
 "nbformat": 4,
 "nbformat_minor": 2
}
