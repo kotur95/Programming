{
 "cells": [
  {
   "cell_type": "code",
   "execution_count": 1,
   "metadata": {},
   "outputs": [],
   "source": [
    "from sklearn.neighbors import KNeighborsClassifier\n",
    "from sklearn.metrics import classification_report, confusion_matrix, accuracy_score, precision_score, f1_score, recall_score\n",
    "from sklearn.model_selection import train_test_split\n",
    "from sklearn.datasets import load_wine\n",
    "import numpy as np\n",
    "import pandas as pd\n",
    "from matplotlib import pyplot as plt"
   ]
  },
  {
   "cell_type": "code",
   "execution_count": 2,
   "metadata": {},
   "outputs": [],
   "source": [
    "data = load_wine()\n",
    "X = data.data\n",
    "y = data.target"
   ]
  },
  {
   "cell_type": "markdown",
   "metadata": {},
   "source": [
    "a) Koliko atributa imaju učitani podaci? Koliko instanci imaju učitani podaci? Koliko različitih klasa postoji?"
   ]
  },
  {
   "cell_type": "code",
   "execution_count": null,
   "metadata": {},
   "outputs": [],
   "source": []
  },
  {
   "cell_type": "markdown",
   "metadata": {},
   "source": [
    "b) Podeliti podatke na skup za obučavanje i testiranje u razmeri 1:3. Za `random_state` parametar postaviti vrednost 7."
   ]
  },
  {
   "cell_type": "code",
   "execution_count": null,
   "metadata": {},
   "outputs": [],
   "source": []
  },
  {
   "cell_type": "markdown",
   "metadata": {},
   "source": [
    "c) Napraviti niz `Ks` koji sadrži prirodne brojeve iz intervala $[1, 50]$. Pronaći model K najbližih suseda koji za parametar $k$ (broj suseda)\n",
    "iz ovog intervala ima najveću tačnost (accuracy) na podacima za testiranje nakon što se model obuči na podacima za obučavanje.\n",
    "Ispisati za koje $k$ je tačnost maksimalna i koja je njena vrednost."
   ]
  },
  {
   "cell_type": "code",
   "execution_count": null,
   "metadata": {},
   "outputs": [],
   "source": []
  },
  {
   "cell_type": "markdown",
   "metadata": {},
   "source": [
    "d) Nacrtati grafik koji prikazuje kako se menja tačnost klasifikatora na test podacima u zavisnosti od promene parametra $k$.\n",
    "Na $x$ obeležiti `k`, a $y$ osu obeležiti sa `tacnost (accuracy)`."
   ]
  },
  {
   "cell_type": "code",
   "execution_count": null,
   "metadata": {},
   "outputs": [],
   "source": []
  },
  {
   "cell_type": "markdown",
   "metadata": {},
   "source": [
    "e) Prikazati klasifikacioni izveštaj (prikazati mere preciznost, odziv, tačnost, f1 mera)\n",
    "i za skup za obučavanje, i za skup za testiranje za najbolji pronađeni model."
   ]
  },
  {
   "cell_type": "code",
   "execution_count": null,
   "metadata": {},
   "outputs": [],
   "source": []
  }
 ],
 "metadata": {
  "kernelspec": {
   "display_name": "Python 3",
   "language": "python",
   "name": "python3"
  },
  "language_info": {
   "codemirror_mode": {
    "name": "ipython",
    "version": 3
   },
   "file_extension": ".py",
   "mimetype": "text/x-python",
   "name": "python",
   "nbconvert_exporter": "python",
   "pygments_lexer": "ipython3",
   "version": "3.7.3"
  }
 },
 "nbformat": 4,
 "nbformat_minor": 2
}
